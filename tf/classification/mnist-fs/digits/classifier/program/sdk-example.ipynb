{
 "cells": [
  {
   "cell_type": "markdown",
   "metadata": {},
   "source": [
    "## Installing DKube SDK"
   ]
  },
  {
   "cell_type": "code",
   "execution_count": null,
   "metadata": {},
   "outputs": [
    {
     "name": "stdout",
     "output_type": "stream",
     "text": [
      "Collecting git+https://github.com/oneconvergence/dkube.git@2.2-dev\n",
      "  Cloning https://github.com/oneconvergence/dkube.git (to revision 2.2-dev) to /tmp/pip-req-build-u1mphwb9\n",
      "  Running command git clone -q https://github.com/oneconvergence/dkube.git /tmp/pip-req-build-u1mphwb9\n",
      "  Running command git checkout -b 2.2-dev --track origin/2.2-dev\n",
      "  Switched to a new branch '2.2-dev'\n",
      "  Branch '2.2-dev' set up to track remote branch '2.2-dev' from 'origin'.\n",
      "Requirement already satisfied (use --upgrade to upgrade): dkube==2.1.5 from git+https://github.com/oneconvergence/dkube.git@2.2-dev in /root/.local/lib/python3.6/site-packages\n",
      "Requirement already satisfied: validators in /root/.local/lib/python3.6/site-packages (from dkube==2.1.5) (0.18.1)\n",
      "Requirement already satisfied: minio in /usr/local/lib/python3.6/dist-packages (from dkube==2.1.5) (6.0.0)\n",
      "Requirement already satisfied: requests in /usr/local/lib/python3.6/dist-packages (from dkube==2.1.5) (2.24.0)\n",
      "Requirement already satisfied: certifi>=14.05.14 in /usr/local/lib/python3.6/dist-packages (from dkube==2.1.5) (2020.6.20)\n",
      "Requirement already satisfied: six>=1.10 in /usr/local/lib/python3.6/dist-packages (from dkube==2.1.5) (1.15.0)\n",
      "Requirement already satisfied: python_dateutil>=2.5.3 in /usr/local/lib/python3.6/dist-packages (from dkube==2.1.5) (2.8.0)\n",
      "Requirement already satisfied: setuptools>=21.0.0 in /usr/local/lib/python3.6/dist-packages (from dkube==2.1.5) (41.0.1)\n",
      "Requirement already satisfied: urllib3>=1.15.1 in /usr/local/lib/python3.6/dist-packages (from dkube==2.1.5) (1.25.11)\n",
      "Requirement already satisfied: url_normalize in /root/.local/lib/python3.6/site-packages (from dkube==2.1.5) (1.4.3)\n",
      "Requirement already satisfied: pyarrow in /root/.local/lib/python3.6/site-packages (from dkube==2.1.5) (2.0.0)\n",
      "Requirement already satisfied: pandas>=1.1.4 in /usr/local/lib/python3.6/dist-packages (from dkube==2.1.5) (1.1.4)\n",
      "Requirement already satisfied: decorator>=3.4.0 in /usr/local/lib/python3.6/dist-packages (from validators->dkube==2.1.5) (4.4.0)\n",
      "Requirement already satisfied: configparser in /usr/local/lib/python3.6/dist-packages (from minio->dkube==2.1.5) (5.0.1)\n",
      "Requirement already satisfied: pytz in /usr/local/lib/python3.6/dist-packages (from minio->dkube==2.1.5) (2020.4)\n",
      "Requirement already satisfied: chardet<4,>=3.0.2 in /usr/local/lib/python3.6/dist-packages (from requests->dkube==2.1.5) (3.0.4)\n",
      "Requirement already satisfied: idna<3,>=2.5 in /usr/lib/python3/dist-packages (from requests->dkube==2.1.5) (2.6)\n",
      "Requirement already satisfied: numpy>=1.14 in /usr/local/lib/python3.6/dist-packages (from pyarrow->dkube==2.1.5) (1.19.4)\n",
      "Building wheels for collected packages: dkube\n",
      "  Building wheel for dkube (setup.py) ... \u001b[?25ldone\n",
      "\u001b[?25h  Stored in directory: /tmp/pip-ephem-wheel-cache-8tqoghz7/wheels/2a/4b/84/14bfd7a4e7b1f305a75a29b13eccb45c94deb415823d831405\n",
      "Successfully built dkube\n",
      "\u001b[33mWARNING: You are using pip version 19.1.1, however version 20.2.4 is available.\n",
      "You should consider upgrading via the 'pip install --upgrade pip' command.\u001b[0m\n"
     ]
    }
   ],
   "source": [
    "! pip3 install git+https://github.com/oneconvergence/dkube.git@2.2-dev --user\n",
    "import os\n",
    "os._exit(00)"
   ]
  },
  {
   "cell_type": "code",
   "execution_count": 1,
   "metadata": {},
   "outputs": [
    {
     "name": "stdout",
     "output_type": "stream",
     "text": [
      "             Open    High     Low   Close   Volume\n",
      "Date                                              \n",
      "26-Feb-16  708.58  713.43  700.86  705.07  2239978\n",
      "25-Feb-16  700.01  705.98  690.58  705.75  1631855\n",
      "24-Feb-16  688.92  700.00  680.78  699.56  1958611\n",
      "23-Feb-16  701.45  708.40  693.58  695.85  1999699\n",
      "22-Feb-16  707.45  713.24  702.51  706.46  1946067\n"
     ]
    }
   ],
   "source": [
    "import pandas as pd\n",
    "import yaml\n",
    "url = 'https://raw.githubusercontent.com/oneconvergence/dkube-examples/master/sklearn/stock-pred/dataset/goog.csv'\n",
    "df = pd.read_csv(url, index_col=0)\n",
    "print(df.head(5))"
   ]
  },
  {
   "cell_type": "code",
   "execution_count": 2,
   "metadata": {},
   "outputs": [],
   "source": [
    "keys   = df.keys()\n",
    "schema = df.dtypes.to_list()\n",
    "featureset_metadata = []\n",
    "for i in range(len(keys)):\n",
    "    metadata = {}\n",
    "    metadata[\"name\"] = str(keys[i])\n",
    "    metadata[\"description\"] = None\n",
    "    metadata[\"schema\"] = str(schema[i])\n",
    "    featureset_metadata.append(metadata)\n",
    "featureset_metadata = yaml.dump(featureset_metadata, default_flow_style=False)"
   ]
  },
  {
   "cell_type": "code",
   "execution_count": 3,
   "metadata": {},
   "outputs": [
    {
     "name": "stdout",
     "output_type": "stream",
     "text": [
      "- description: null\n",
      "  name: Open\n",
      "  schema: float64\n",
      "- description: null\n",
      "  name: High\n",
      "  schema: float64\n",
      "- description: null\n",
      "  name: Low\n",
      "  schema: float64\n",
      "- description: null\n",
      "  name: Close\n",
      "  schema: float64\n",
      "- description: null\n",
      "  name: Volume\n",
      "  schema: int64\n",
      "\n"
     ]
    }
   ],
   "source": [
    "print(featureset_metadata)"
   ]
  },
  {
   "cell_type": "code",
   "execution_count": 4,
   "metadata": {},
   "outputs": [
    {
     "data": {
      "text/plain": [
       "255"
      ]
     },
     "execution_count": 4,
     "metadata": {},
     "output_type": "execute_result"
    }
   ],
   "source": [
    "spec_path = \"/tmp/spec1.yaml\"\n",
    "open(spec_path, \"w\").write(featureset_metadata)"
   ]
  },
  {
   "cell_type": "code",
   "execution_count": 5,
   "metadata": {},
   "outputs": [],
   "source": [
    "from dkube.sdk import *"
   ]
  },
  {
   "cell_type": "code",
   "execution_count": 6,
   "metadata": {},
   "outputs": [],
   "source": [
    "user = os.getenv('USERNAME')\n",
    "authToken = os.getenv('DKUBE_USER_ACCESS_TOKEN')\n",
    "api = DkubeApi(token=authToken)"
   ]
  },
  {
   "cell_type": "code",
   "execution_count": 7,
   "metadata": {},
   "outputs": [],
   "source": [
    "# featureset_name = generate('stock-values-fs')\n",
    "# featureset = DkubeFeatureSet(name=featureset_name, description=\"Stock values\", tags=[\n",
    "#                                  \"stock:values\"])\n",
    "# featureset.update_featurespec_file(spec_path)\n",
    "# api.create_featureset(featureset)"
   ]
  },
  {
   "cell_type": "code",
   "execution_count": 8,
   "metadata": {},
   "outputs": [
    {
     "data": {
      "text/plain": [
       "{'data': [{'featureset': {'created_ts': '2020-11-27 16:30:10',\n",
       "                          'description': 'Stock values',\n",
       "                          'job': None,\n",
       "                          'name': 'stock-values-fs-8374',\n",
       "                          'owner': None,\n",
       "                          'status': 'Ready',\n",
       "                          'tags': ['stock:values'],\n",
       "                          'updated_ts': '2020-11-27 16:30:10',\n",
       "                          'uuid': '0551cf36-732c-4697-af92-7c2fd0febb33'},\n",
       "           'versions': None},\n",
       "          {'featureset': {'created_ts': '2020-11-27 16:03:17',\n",
       "                          'description': 'Stock values',\n",
       "                          'job': None,\n",
       "                          'name': 'stock-values-fs-5471',\n",
       "                          'owner': None,\n",
       "                          'status': 'Ready',\n",
       "                          'tags': ['stock:values'],\n",
       "                          'updated_ts': '2020-11-27 16:03:17',\n",
       "                          'uuid': '2bd1b695-9c8e-41ab-8138-4dc64af23691'},\n",
       "           'versions': None},\n",
       "          {'featureset': {'created_ts': '2020-11-27 13:13:04',\n",
       "                          'description': 'Stock values',\n",
       "                          'job': None,\n",
       "                          'name': 'stock-values-fs-3254',\n",
       "                          'owner': None,\n",
       "                          'status': 'Ready',\n",
       "                          'tags': ['stock:values'],\n",
       "                          'updated_ts': '2020-11-27 13:13:04',\n",
       "                          'uuid': '9129b940-56ef-4f9d-a7d0-4c2b5b213aba'},\n",
       "           'versions': None},\n",
       "          {'featureset': {'created_ts': '2020-11-27 16:04:45',\n",
       "                          'description': None,\n",
       "                          'job': None,\n",
       "                          'name': 'test-3',\n",
       "                          'owner': 'ocdkube',\n",
       "                          'status': 'Ready',\n",
       "                          'tags': None,\n",
       "                          'updated_ts': '2020-11-27 16:04:45',\n",
       "                          'uuid': '94601568-869b-41b7-96a9-4ccdc55cc3ea'},\n",
       "           'versions': None},\n",
       "          {'featureset': {'created_ts': '2020-11-27 13:05:16',\n",
       "                          'description': 'Stock values',\n",
       "                          'job': None,\n",
       "                          'name': 'stock-values-fs-1177',\n",
       "                          'owner': None,\n",
       "                          'status': 'Ready',\n",
       "                          'tags': ['stock:values'],\n",
       "                          'updated_ts': '2020-11-27 13:05:16',\n",
       "                          'uuid': 'ae2ad5e9-b65c-4ed6-a7db-fa2d31657941'},\n",
       "           'versions': None},\n",
       "          {'featureset': {'created_ts': '2020-11-27 05:22:20',\n",
       "                          'description': None,\n",
       "                          'job': None,\n",
       "                          'name': 'mnist-fs',\n",
       "                          'owner': 'ocdkube',\n",
       "                          'status': 'Ready',\n",
       "                          'tags': None,\n",
       "                          'updated_ts': '2020-11-27 13:24:34',\n",
       "                          'uuid': 'e50cc205-5a6b-4825-bfd4-30324f1aa2c8'},\n",
       "           'versions': None},\n",
       "          {'featureset': {'created_ts': '2020-11-29 12:09:13',\n",
       "                          'description': 'Stock values',\n",
       "                          'job': None,\n",
       "                          'name': 'stock-values-fs-9436',\n",
       "                          'owner': None,\n",
       "                          'status': 'Ready',\n",
       "                          'tags': ['stock:values'],\n",
       "                          'updated_ts': '2020-11-29 12:09:13',\n",
       "                          'uuid': 'f0243bd5-b989-4f50-93ec-78e9adde164b'},\n",
       "           'versions': None}],\n",
       " 'response': {'code': 200, 'message': 'Featureset list Success', 'uuid': None}}"
      ]
     },
     "execution_count": 8,
     "metadata": {},
     "output_type": "execute_result"
    }
   ],
   "source": [
    "api.list_featuresets()"
   ]
  },
  {
   "cell_type": "code",
   "execution_count": 9,
   "metadata": {},
   "outputs": [],
   "source": [
    "inp_path = \"/opt/dkube/input\"\n",
    "featureset = DkubeFeatureSet()\n",
    "featureset.update_features_path(path=inp_path)\n",
    "data  = featureset.read()"
   ]
  },
  {
   "cell_type": "code",
   "execution_count": 10,
   "metadata": {},
   "outputs": [
    {
     "data": {
      "text/html": [
       "<div>\n",
       "<style scoped>\n",
       "    .dataframe tbody tr th:only-of-type {\n",
       "        vertical-align: middle;\n",
       "    }\n",
       "\n",
       "    .dataframe tbody tr th {\n",
       "        vertical-align: top;\n",
       "    }\n",
       "\n",
       "    .dataframe thead th {\n",
       "        text-align: right;\n",
       "    }\n",
       "</style>\n",
       "<table border=\"1\" class=\"dataframe\">\n",
       "  <thead>\n",
       "    <tr style=\"text-align: right;\">\n",
       "      <th></th>\n",
       "      <th>0</th>\n",
       "      <th>1</th>\n",
       "      <th>2</th>\n",
       "      <th>3</th>\n",
       "      <th>4</th>\n",
       "      <th>5</th>\n",
       "      <th>6</th>\n",
       "      <th>7</th>\n",
       "      <th>8</th>\n",
       "      <th>9</th>\n",
       "      <th>...</th>\n",
       "      <th>775</th>\n",
       "      <th>776</th>\n",
       "      <th>777</th>\n",
       "      <th>778</th>\n",
       "      <th>779</th>\n",
       "      <th>780</th>\n",
       "      <th>781</th>\n",
       "      <th>782</th>\n",
       "      <th>783</th>\n",
       "      <th>label</th>\n",
       "    </tr>\n",
       "  </thead>\n",
       "  <tbody>\n",
       "    <tr>\n",
       "      <th>0</th>\n",
       "      <td>0.0</td>\n",
       "      <td>0.0</td>\n",
       "      <td>0.0</td>\n",
       "      <td>0.0</td>\n",
       "      <td>0.0</td>\n",
       "      <td>0.0</td>\n",
       "      <td>0.0</td>\n",
       "      <td>0.0</td>\n",
       "      <td>0.0</td>\n",
       "      <td>0.0</td>\n",
       "      <td>...</td>\n",
       "      <td>0.0</td>\n",
       "      <td>0.0</td>\n",
       "      <td>0.0</td>\n",
       "      <td>0.0</td>\n",
       "      <td>0.0</td>\n",
       "      <td>0.0</td>\n",
       "      <td>0.0</td>\n",
       "      <td>0.0</td>\n",
       "      <td>0.0</td>\n",
       "      <td>5</td>\n",
       "    </tr>\n",
       "    <tr>\n",
       "      <th>1</th>\n",
       "      <td>0.0</td>\n",
       "      <td>0.0</td>\n",
       "      <td>0.0</td>\n",
       "      <td>0.0</td>\n",
       "      <td>0.0</td>\n",
       "      <td>0.0</td>\n",
       "      <td>0.0</td>\n",
       "      <td>0.0</td>\n",
       "      <td>0.0</td>\n",
       "      <td>0.0</td>\n",
       "      <td>...</td>\n",
       "      <td>0.0</td>\n",
       "      <td>0.0</td>\n",
       "      <td>0.0</td>\n",
       "      <td>0.0</td>\n",
       "      <td>0.0</td>\n",
       "      <td>0.0</td>\n",
       "      <td>0.0</td>\n",
       "      <td>0.0</td>\n",
       "      <td>0.0</td>\n",
       "      <td>0</td>\n",
       "    </tr>\n",
       "    <tr>\n",
       "      <th>2</th>\n",
       "      <td>0.0</td>\n",
       "      <td>0.0</td>\n",
       "      <td>0.0</td>\n",
       "      <td>0.0</td>\n",
       "      <td>0.0</td>\n",
       "      <td>0.0</td>\n",
       "      <td>0.0</td>\n",
       "      <td>0.0</td>\n",
       "      <td>0.0</td>\n",
       "      <td>0.0</td>\n",
       "      <td>...</td>\n",
       "      <td>0.0</td>\n",
       "      <td>0.0</td>\n",
       "      <td>0.0</td>\n",
       "      <td>0.0</td>\n",
       "      <td>0.0</td>\n",
       "      <td>0.0</td>\n",
       "      <td>0.0</td>\n",
       "      <td>0.0</td>\n",
       "      <td>0.0</td>\n",
       "      <td>4</td>\n",
       "    </tr>\n",
       "    <tr>\n",
       "      <th>3</th>\n",
       "      <td>0.0</td>\n",
       "      <td>0.0</td>\n",
       "      <td>0.0</td>\n",
       "      <td>0.0</td>\n",
       "      <td>0.0</td>\n",
       "      <td>0.0</td>\n",
       "      <td>0.0</td>\n",
       "      <td>0.0</td>\n",
       "      <td>0.0</td>\n",
       "      <td>0.0</td>\n",
       "      <td>...</td>\n",
       "      <td>0.0</td>\n",
       "      <td>0.0</td>\n",
       "      <td>0.0</td>\n",
       "      <td>0.0</td>\n",
       "      <td>0.0</td>\n",
       "      <td>0.0</td>\n",
       "      <td>0.0</td>\n",
       "      <td>0.0</td>\n",
       "      <td>0.0</td>\n",
       "      <td>1</td>\n",
       "    </tr>\n",
       "    <tr>\n",
       "      <th>4</th>\n",
       "      <td>0.0</td>\n",
       "      <td>0.0</td>\n",
       "      <td>0.0</td>\n",
       "      <td>0.0</td>\n",
       "      <td>0.0</td>\n",
       "      <td>0.0</td>\n",
       "      <td>0.0</td>\n",
       "      <td>0.0</td>\n",
       "      <td>0.0</td>\n",
       "      <td>0.0</td>\n",
       "      <td>...</td>\n",
       "      <td>0.0</td>\n",
       "      <td>0.0</td>\n",
       "      <td>0.0</td>\n",
       "      <td>0.0</td>\n",
       "      <td>0.0</td>\n",
       "      <td>0.0</td>\n",
       "      <td>0.0</td>\n",
       "      <td>0.0</td>\n",
       "      <td>0.0</td>\n",
       "      <td>9</td>\n",
       "    </tr>\n",
       "  </tbody>\n",
       "</table>\n",
       "<p>5 rows × 785 columns</p>\n",
       "</div>"
      ],
      "text/plain": [
       "     0    1    2    3    4    5    6    7    8    9  ...  775  776  777  778  \\\n",
       "0  0.0  0.0  0.0  0.0  0.0  0.0  0.0  0.0  0.0  0.0  ...  0.0  0.0  0.0  0.0   \n",
       "1  0.0  0.0  0.0  0.0  0.0  0.0  0.0  0.0  0.0  0.0  ...  0.0  0.0  0.0  0.0   \n",
       "2  0.0  0.0  0.0  0.0  0.0  0.0  0.0  0.0  0.0  0.0  ...  0.0  0.0  0.0  0.0   \n",
       "3  0.0  0.0  0.0  0.0  0.0  0.0  0.0  0.0  0.0  0.0  ...  0.0  0.0  0.0  0.0   \n",
       "4  0.0  0.0  0.0  0.0  0.0  0.0  0.0  0.0  0.0  0.0  ...  0.0  0.0  0.0  0.0   \n",
       "\n",
       "   779  780  781  782  783  label  \n",
       "0  0.0  0.0  0.0  0.0  0.0      5  \n",
       "1  0.0  0.0  0.0  0.0  0.0      0  \n",
       "2  0.0  0.0  0.0  0.0  0.0      4  \n",
       "3  0.0  0.0  0.0  0.0  0.0      1  \n",
       "4  0.0  0.0  0.0  0.0  0.0      9  \n",
       "\n",
       "[5 rows x 785 columns]"
      ]
     },
     "execution_count": 10,
     "metadata": {},
     "output_type": "execute_result"
    }
   ],
   "source": [
    "data['data'].head()"
   ]
  },
  {
   "cell_type": "code",
   "execution_count": null,
   "metadata": {},
   "outputs": [],
   "source": []
  }
 ],
 "metadata": {
  "kernelspec": {
   "display_name": "Python 3",
   "language": "python",
   "name": "python3"
  },
  "language_info": {
   "codemirror_mode": {
    "name": "ipython",
    "version": 3
   },
   "file_extension": ".py",
   "mimetype": "text/x-python",
   "name": "python",
   "nbconvert_exporter": "python",
   "pygments_lexer": "ipython3",
   "version": "3.6.8"
  }
 },
 "nbformat": 4,
 "nbformat_minor": 4
}
