{
 "cells": [
  {
   "cell_type": "code",
   "execution_count": 1,
   "metadata": {},
   "outputs": [],
   "source": [
    "import boto3\n",
    "import json\n",
    "import os"
   ]
  },
  {
   "cell_type": "code",
   "execution_count": 2,
   "metadata": {},
   "outputs": [],
   "source": [
    "DATA_DIR = '/opt/dkube/input'\n",
    "config = json.load(open(os.path.join(DATA_DIR,'config.json')))"
   ]
  },
  {
   "cell_type": "code",
   "execution_count": 3,
   "metadata": {},
   "outputs": [],
   "source": [
    "with open(os.path.join(DATA_DIR,'credentials'), 'r') as f:\n",
    "    creds = f.read()"
   ]
  },
  {
   "cell_type": "code",
   "execution_count": 4,
   "metadata": {},
   "outputs": [],
   "source": [
    "access_key = creds.split('\\n')[1].split('=')[-1].strip()\n",
    "secret_key = creds.split('\\n')[2].split('=')[-1].strip()"
   ]
  },
  {
   "cell_type": "code",
   "execution_count": 5,
   "metadata": {},
   "outputs": [],
   "source": [
    "session = boto3.session.Session()\n",
    "s3_client = boto3.resource(\n",
    "    service_name='s3',\n",
    "    aws_access_key_id=access_key,\n",
    "    aws_secret_access_key=secret_key,\n",
    "    endpoint_url=config['Endpoint']\n",
    ")"
   ]
  },
  {
   "cell_type": "code",
   "execution_count": 6,
   "metadata": {},
   "outputs": [],
   "source": [
    "my_bucket = s3_client.Bucket(config['Bucket'])"
   ]
  },
  {
   "cell_type": "code",
   "execution_count": 7,
   "metadata": {},
   "outputs": [
    {
     "name": "stdout",
     "output_type": "stream",
     "text": [
      "CMU-1/\n",
      "CMU-1/Data0000.dat\n",
      "CMU-1/Data0001.dat\n",
      "CMU-1/Data0002.dat\n",
      "CMU-1/Data0003.dat\n",
      "CMU-1/Data0004.dat\n",
      "CMU-1/Data0005.dat\n",
      "CMU-1/Data0006.dat\n",
      "CMU-1/Data0007.dat\n",
      "CMU-1/Data0008.dat\n",
      "CMU-1/Data0009.dat\n",
      "CMU-1/Data0010.dat\n",
      "CMU-1/Data0011.dat\n",
      "CMU-1/Data0012.dat\n",
      "CMU-1/Data0013.dat\n",
      "CMU-1/Data0014.dat\n",
      "CMU-1/Data0015.dat\n",
      "CMU-1/Data0016.dat\n",
      "CMU-1/Data0017.dat\n",
      "CMU-1/Data0018.dat\n",
      "CMU-1/Data0019.dat\n",
      "CMU-1/Data0020.dat\n",
      "CMU-1/Data0021.dat\n",
      "CMU-1/Data0022.dat\n",
      "CMU-1/Index.dat\n",
      "CMU-1/Slidedat.ini\n",
      "CMU-1.mrxs\n"
     ]
    }
   ],
   "source": [
    "for file in my_bucket.objects.all():\n",
    "    print(file.key)"
   ]
  },
  {
   "cell_type": "code",
   "execution_count": 8,
   "metadata": {},
   "outputs": [],
   "source": [
    "my_bucket.download_file(Filename = 'Data0000.dat',Key = 'CMU-1/Data0000.dat')"
   ]
  }
 ],
 "metadata": {
  "kernelspec": {
   "display_name": "Python 3",
   "language": "python",
   "name": "python3"
  },
  "language_info": {
   "codemirror_mode": {
    "name": "ipython",
    "version": 3
   },
   "file_extension": ".py",
   "mimetype": "text/x-python",
   "name": "python",
   "nbconvert_exporter": "python",
   "pygments_lexer": "ipython3",
   "version": "3.6.8"
  }
 },
 "nbformat": 4,
 "nbformat_minor": 4
}
