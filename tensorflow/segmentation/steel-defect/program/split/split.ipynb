{
 "cells": [
  {
   "cell_type": "code",
   "execution_count": 1,
   "metadata": {},
   "outputs": [],
   "source": [
    "import pandas as pd\n",
    "from sklearn.model_selection import train_test_split\n",
    "from sklearn import preprocessing\n",
    "import os, shutil\n",
    "import numpy as np\n",
    "import cv2\n",
    "from random import shuffle"
   ]
  },
  {
   "cell_type": "code",
   "execution_count": 2,
   "metadata": {},
   "outputs": [],
   "source": [
    "DATA_DIR = \"../../../output/\"\n",
    "OUT_DIR = \"../../../splits/\"\n",
    "TRAIN_DATA = OUT_DIR + 'train/'\n",
    "TEST_DATA = OUT_DIR + 'test/'"
   ]
  },
  {
   "cell_type": "code",
   "execution_count": 3,
   "metadata": {},
   "outputs": [],
   "source": [
    "df = pd.read_csv(os.path.join(DATA_DIR, 'train.csv'))"
   ]
  },
  {
   "cell_type": "code",
   "execution_count": 4,
   "metadata": {},
   "outputs": [],
   "source": [
    "train_df, test_df = train_test_split(df, test_size=.10)"
   ]
  },
  {
   "cell_type": "code",
   "execution_count": 6,
   "metadata": {},
   "outputs": [
    {
     "name": "stdout",
     "output_type": "stream",
     "text": [
      "Train Data Created\n"
     ]
    }
   ],
   "source": [
    "if not os.path.exists(TRAIN_DATA + 'images/'):\n",
    "    os.makedirs(TRAIN_DATA + 'images/')\n",
    "\n",
    "for i in range(10):#len(train_df)):\n",
    "    filename = train_df.iloc[i]['ImageId']\n",
    "    shutil.copyfile(DATA_DIR + 'images/' + filename , TRAIN_DATA + 'images/' + filename) \n",
    "train_df.to_csv(TRAIN_DATA + 'train.csv', index=False, sep=',')\n",
    "print(\"Train Data Created\")"
   ]
  },
  {
   "cell_type": "code",
   "execution_count": 7,
   "metadata": {},
   "outputs": [
    {
     "name": "stdout",
     "output_type": "stream",
     "text": [
      "Test Data Created\n"
     ]
    }
   ],
   "source": [
    "if not os.path.exists(TEST_DATA + 'images/'):\n",
    "    os.makedirs(TEST_DATA + 'images/')\n",
    "\n",
    "for i in range(len(test_df)):\n",
    "    filename = test_df.iloc[i]['ImageId']\n",
    "    shutil.copyfile(DATA_DIR + 'images/' + filename , TEST_DATA + 'images/' + filename) \n",
    "test_df.to_csv(TEST_DATA + 'test.csv', index=False, sep=',')\n",
    "print(\"Test Data Created\")"
   ]
  },
  {
   "cell_type": "code",
   "execution_count": null,
   "metadata": {},
   "outputs": [],
   "source": []
  }
 ],
 "metadata": {
  "kernelspec": {
   "display_name": "Python 3",
   "language": "python",
   "name": "python3"
  },
  "language_info": {
   "codemirror_mode": {
    "name": "ipython",
    "version": 3
   },
   "file_extension": ".py",
   "mimetype": "text/x-python",
   "name": "python",
   "nbconvert_exporter": "python",
   "pygments_lexer": "ipython3",
   "version": "3.6.8"
  }
 },
 "nbformat": 4,
 "nbformat_minor": 4
}
