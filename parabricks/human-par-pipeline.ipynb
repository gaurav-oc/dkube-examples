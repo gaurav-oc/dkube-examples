{
 "cells": [
  {
   "cell_type": "code",
   "execution_count": 1,
   "metadata": {
    "collapsed": true,
    "jupyter": {
     "outputs_hidden": true
    }
   },
   "outputs": [
    {
     "name": "stderr",
     "output_type": "stream",
     "text": [
      "WARNING: Logging before flag parsing goes to stderr.\n",
      "W0407 15:40:01.764074 140064076842816 deprecation_wrapper.py:119] From /home/dkube/.ipython/extensions/myextension.py:9: The name tf.gfile.Exists is deprecated. Please use tf.io.gfile.exists instead.\n",
      "\n",
      "W0407 15:40:01.777127 140064076842816 deprecation_wrapper.py:119] From /home/dkube/.ipython/extensions/myextension.py:10: The name tf.gfile.DeleteRecursively is deprecated. Please use tf.io.gfile.rmtree instead.\n",
      "\n"
     ]
    },
    {
     "name": "stdout",
     "output_type": "stream",
     "text": [
      "env: RELEASE_VERSION=0.1.18\n",
      "Collecting https://storage.googleapis.com/ml-pipeline/release/0.1.18/kfp.tar.gz\n",
      "\u001b[?25l  Downloading https://storage.googleapis.com/ml-pipeline/release/0.1.18/kfp.tar.gz (152kB)\n",
      "\u001b[K     |████████████████████████████████| 153kB 5.7MB/s eta 0:00:01\n",
      "\u001b[?25hCollecting urllib3<1.25,>=1.15 (from kfp==0.1.18)\n",
      "\u001b[?25l  Downloading https://files.pythonhosted.org/packages/01/11/525b02e4acc0c747de8b6ccdab376331597c569c42ea66ab0a1dbd36eca2/urllib3-1.24.3-py2.py3-none-any.whl (118kB)\n",
      "\u001b[K     |████████████████████████████████| 122kB 8.3MB/s eta 0:00:01\n",
      "\u001b[?25hRequirement already satisfied, skipping upgrade: six>=1.10 in /usr/lib/python3/dist-packages (from kfp==0.1.18) (1.11.0)\n",
      "Requirement already satisfied, skipping upgrade: certifi in /usr/local/lib/python3.6/dist-packages (from kfp==0.1.18) (2019.11.28)\n",
      "Requirement already satisfied, skipping upgrade: python-dateutil in /usr/local/lib/python3.6/dist-packages (from kfp==0.1.18) (2.8.0)\n",
      "Requirement already satisfied, skipping upgrade: PyYAML in /usr/local/lib/python3.6/dist-packages (from kfp==0.1.18) (5.2)\n",
      "Collecting google-cloud-storage>=1.13.0 (from kfp==0.1.18)\n",
      "\u001b[?25l  Downloading https://files.pythonhosted.org/packages/72/09/3af468fdf141923b78cdee7395cf0df65804cc6d25557ef1b55d4980673f/google_cloud_storage-1.27.0-py2.py3-none-any.whl (79kB)\n",
      "\u001b[K     |████████████████████████████████| 81kB 12.3MB/s eta 0:00:01\n",
      "\u001b[?25hCollecting kubernetes<=9.0.0,>=8.0.0 (from kfp==0.1.18)\n",
      "\u001b[?25l  Downloading https://files.pythonhosted.org/packages/00/f7/4f196c55f1c2713d3edc8252c4b45326306eef4dc10048f13916fe446e2b/kubernetes-9.0.0-py2.py3-none-any.whl (1.4MB)\n",
      "\u001b[K     |████████████████████████████████| 1.4MB 19.2MB/s eta 0:00:01\n",
      "\u001b[?25hCollecting PyJWT>=1.6.4 (from kfp==0.1.18)\n",
      "  Downloading https://files.pythonhosted.org/packages/87/8b/6a9f14b5f781697e51259d81657e6048fd31a113229cf346880bb7545565/PyJWT-1.7.1-py2.py3-none-any.whl\n",
      "Collecting cryptography>=2.4.2 (from kfp==0.1.18)\n",
      "\u001b[?25l  Downloading https://files.pythonhosted.org/packages/8f/2d/29d2638b8df016526182594166c220913dafba3da0019b0776ff1bbc8ede/cryptography-2.9-cp35-abi3-manylinux2010_x86_64.whl (2.7MB)\n",
      "\u001b[K     |████████████████████████████████| 2.7MB 30.1MB/s eta 0:00:01\n",
      "\u001b[?25hCollecting google-auth>=1.6.1 (from kfp==0.1.18)\n",
      "\u001b[?25l  Downloading https://files.pythonhosted.org/packages/dc/1a/c3c2f3aa4190d8154a146ad33aa5479c8d193cc6211abe5c535921d93389/google_auth-1.13.1-py2.py3-none-any.whl (87kB)\n",
      "\u001b[K     |████████████████████████████████| 92kB 18.8MB/s eta 0:00:01\n",
      "\u001b[?25hCollecting requests_toolbelt>=0.8.0 (from kfp==0.1.18)\n",
      "\u001b[?25l  Downloading https://files.pythonhosted.org/packages/60/ef/7681134338fc097acef8d9b2f8abe0458e4d87559c689a8c306d0957ece5/requests_toolbelt-0.9.1-py2.py3-none-any.whl (54kB)\n",
      "\u001b[K     |████████████████████████████████| 61kB 16.1MB/s eta 0:00:01\n",
      "\u001b[?25hCollecting google-resumable-media<0.6dev,>=0.5.0 (from google-cloud-storage>=1.13.0->kfp==0.1.18)\n",
      "  Downloading https://files.pythonhosted.org/packages/35/9e/f73325d0466ce5bdc36333f1aeb2892ead7b76e79bdb5c8b0493961fa098/google_resumable_media-0.5.0-py2.py3-none-any.whl\n",
      "Collecting google-cloud-core<2.0dev,>=1.2.0 (from google-cloud-storage>=1.13.0->kfp==0.1.18)\n",
      "  Downloading https://files.pythonhosted.org/packages/89/3c/8a7531839028c9690e6d14c650521f3bbaf26e53baaeb2784b8c3eb2fb97/google_cloud_core-1.3.0-py2.py3-none-any.whl\n",
      "Requirement already satisfied, skipping upgrade: requests in /usr/local/lib/python3.6/dist-packages (from kubernetes<=9.0.0,>=8.0.0->kfp==0.1.18) (2.22.0)\n",
      "Collecting websocket-client!=0.40.0,!=0.41.*,!=0.42.*,>=0.32.0 (from kubernetes<=9.0.0,>=8.0.0->kfp==0.1.18)\n",
      "\u001b[?25l  Downloading https://files.pythonhosted.org/packages/4c/5f/f61b420143ed1c8dc69f9eaec5ff1ac36109d52c80de49d66e0c36c3dfdf/websocket_client-0.57.0-py2.py3-none-any.whl (200kB)\n",
      "\u001b[K     |████████████████████████████████| 204kB 31.2MB/s eta 0:00:01\n",
      "\u001b[?25hRequirement already satisfied, skipping upgrade: setuptools>=21.0.0 in /usr/local/lib/python3.6/dist-packages (from kubernetes<=9.0.0,>=8.0.0->kfp==0.1.18) (41.0.1)\n",
      "Collecting requests-oauthlib (from kubernetes<=9.0.0,>=8.0.0->kfp==0.1.18)\n",
      "  Downloading https://files.pythonhosted.org/packages/a3/12/b92740d845ab62ea4edf04d2f4164d82532b5a0b03836d4d4e71c6f3d379/requests_oauthlib-1.3.0-py2.py3-none-any.whl\n",
      "Requirement already satisfied, skipping upgrade: cffi!=1.11.3,>=1.8 in /usr/local/lib/python3.6/dist-packages (from cryptography>=2.4.2->kfp==0.1.18) (1.13.2)\n",
      "Collecting cachetools<5.0,>=2.0.0 (from google-auth>=1.6.1->kfp==0.1.18)\n",
      "  Downloading https://files.pythonhosted.org/packages/08/6a/abf83cb951617793fd49c98cb9456860f5df66ff89883c8660aa0672d425/cachetools-4.0.0-py3-none-any.whl\n",
      "Collecting rsa<4.1,>=3.1.4 (from google-auth>=1.6.1->kfp==0.1.18)\n",
      "  Downloading https://files.pythonhosted.org/packages/02/e5/38518af393f7c214357079ce67a317307936896e961e35450b70fad2a9cf/rsa-4.0-py2.py3-none-any.whl\n",
      "Collecting pyasn1-modules>=0.2.1 (from google-auth>=1.6.1->kfp==0.1.18)\n",
      "\u001b[?25l  Downloading https://files.pythonhosted.org/packages/95/de/214830a981892a3e286c3794f41ae67a4495df1108c3da8a9f62159b9a9d/pyasn1_modules-0.2.8-py2.py3-none-any.whl (155kB)\n",
      "\u001b[K     |████████████████████████████████| 163kB 30.1MB/s eta 0:00:01\n",
      "\u001b[?25hCollecting google-api-core<2.0.0dev,>=1.16.0 (from google-cloud-core<2.0dev,>=1.2.0->google-cloud-storage>=1.13.0->kfp==0.1.18)\n",
      "\u001b[?25l  Downloading https://files.pythonhosted.org/packages/63/7e/a523169b0cc9ce62d56e07571db927286a94b1a5f51ac220bd97db825c77/google_api_core-1.16.0-py2.py3-none-any.whl (70kB)\n",
      "\u001b[K     |████████████████████████████████| 71kB 16.9MB/s eta 0:00:01\n",
      "\u001b[?25hRequirement already satisfied, skipping upgrade: chardet<3.1.0,>=3.0.2 in /usr/local/lib/python3.6/dist-packages (from requests->kubernetes<=9.0.0,>=8.0.0->kfp==0.1.18) (3.0.4)\n",
      "Requirement already satisfied, skipping upgrade: idna<2.9,>=2.5 in /usr/lib/python3/dist-packages (from requests->kubernetes<=9.0.0,>=8.0.0->kfp==0.1.18) (2.6)\n",
      "Collecting oauthlib>=3.0.0 (from requests-oauthlib->kubernetes<=9.0.0,>=8.0.0->kfp==0.1.18)\n",
      "\u001b[?25l  Downloading https://files.pythonhosted.org/packages/05/57/ce2e7a8fa7c0afb54a0581b14a65b56e62b5759dbc98e80627142b8a3704/oauthlib-3.1.0-py2.py3-none-any.whl (147kB)\n",
      "\u001b[K     |████████████████████████████████| 153kB 39.9MB/s eta 0:00:01\n",
      "\u001b[?25hRequirement already satisfied, skipping upgrade: pycparser in /usr/local/lib/python3.6/dist-packages (from cffi!=1.11.3,>=1.8->cryptography>=2.4.2->kfp==0.1.18) (2.19)\n",
      "Collecting pyasn1>=0.1.3 (from rsa<4.1,>=3.1.4->google-auth>=1.6.1->kfp==0.1.18)\n",
      "\u001b[?25l  Downloading https://files.pythonhosted.org/packages/62/1e/a94a8d635fa3ce4cfc7f506003548d0a2447ae76fd5ca53932970fe3053f/pyasn1-0.4.8-py2.py3-none-any.whl (77kB)\n",
      "\u001b[K     |████████████████████████████████| 81kB 17.7MB/s eta 0:00:01\n",
      "\u001b[?25hRequirement already satisfied, skipping upgrade: pytz in /usr/local/lib/python3.6/dist-packages (from google-api-core<2.0.0dev,>=1.16.0->google-cloud-core<2.0dev,>=1.2.0->google-cloud-storage>=1.13.0->kfp==0.1.18) (2019.3)\n",
      "Collecting googleapis-common-protos<2.0dev,>=1.6.0 (from google-api-core<2.0.0dev,>=1.16.0->google-cloud-core<2.0dev,>=1.2.0->google-cloud-storage>=1.13.0->kfp==0.1.18)\n",
      "  Downloading https://files.pythonhosted.org/packages/05/46/168fd780f594a4d61122f7f3dc0561686084319ad73b4febbf02ae8b32cf/googleapis-common-protos-1.51.0.tar.gz\n",
      "Requirement already satisfied, skipping upgrade: protobuf>=3.4.0 in /usr/local/lib/python3.6/dist-packages (from google-api-core<2.0.0dev,>=1.16.0->google-cloud-core<2.0dev,>=1.2.0->google-cloud-storage>=1.13.0->kfp==0.1.18) (3.8.0)\n",
      "Building wheels for collected packages: kfp, googleapis-common-protos\n",
      "  Building wheel for kfp (setup.py) ... \u001b[?25ldone\n",
      "\u001b[?25h  Stored in directory: /tmp/pip-ephem-wheel-cache-w9uxwe8t/wheels/a8/be/46/964c241809fd50c2a15d63d0d61e4c48596c075dce5a83265c\n",
      "  Building wheel for googleapis-common-protos (setup.py) ... \u001b[?25ldone\n",
      "\u001b[?25h  Stored in directory: /home/dkube/.cache/pip/wheels/2c/f9/7f/6eb87e636072bf467e25348bbeb96849333e6a080dca78f706\n",
      "Successfully built kfp googleapis-common-protos\n",
      "Installing collected packages: urllib3, google-resumable-media, cachetools, pyasn1, rsa, pyasn1-modules, google-auth, googleapis-common-protos, google-api-core, google-cloud-core, google-cloud-storage, websocket-client, oauthlib, requests-oauthlib, kubernetes, PyJWT, cryptography, requests-toolbelt, kfp\n",
      "\u001b[33m  WARNING: The scripts pyrsa-decrypt, pyrsa-encrypt, pyrsa-keygen, pyrsa-priv2pub, pyrsa-sign and pyrsa-verify are installed in '/home/dkube/.local/bin' which is not on PATH.\n",
      "  Consider adding this directory to PATH or, if you prefer to suppress this warning, use --no-warn-script-location.\u001b[0m\n",
      "\u001b[33m  WARNING: The script pyjwt is installed in '/home/dkube/.local/bin' which is not on PATH.\n",
      "  Consider adding this directory to PATH or, if you prefer to suppress this warning, use --no-warn-script-location.\u001b[0m\n",
      "\u001b[33m  WARNING: The script dsl-compile is installed in '/home/dkube/.local/bin' which is not on PATH.\n",
      "  Consider adding this directory to PATH or, if you prefer to suppress this warning, use --no-warn-script-location.\u001b[0m\n",
      "Successfully installed PyJWT-1.7.1 cachetools-4.0.0 cryptography-2.9 google-api-core-1.16.0 google-auth-1.13.1 google-cloud-core-1.3.0 google-cloud-storage-1.27.0 google-resumable-media-0.5.0 googleapis-common-protos-1.51.0 kfp-0.1.18 kubernetes-9.0.0 oauthlib-3.1.0 pyasn1-0.4.8 pyasn1-modules-0.2.8 requests-oauthlib-1.3.0 requests-toolbelt-0.9.1 rsa-4.0 urllib3-1.24.3 websocket-client-0.57.0\n",
      "\u001b[33mWARNING: You are using pip version 19.1.1, however version 20.0.2 is available.\n",
      "You should consider upgrading via the 'pip install --upgrade pip' command.\u001b[0m\n"
     ]
    }
   ],
   "source": [
    "%env RELEASE_VERSION=0.1.18\n",
    "!pip install https://storage.googleapis.com/ml-pipeline/release/${RELEASE_VERSION}/kfp.tar.gz --upgrade --user"
   ]
  },
  {
   "cell_type": "code",
   "execution_count": 1,
   "metadata": {},
   "outputs": [
    {
     "name": "stderr",
     "output_type": "stream",
     "text": [
      "WARNING: Logging before flag parsing goes to stderr.\n",
      "W0407 15:40:21.996864 139996295509824 deprecation_wrapper.py:119] From /home/dkube/.ipython/extensions/myextension.py:9: The name tf.gfile.Exists is deprecated. Please use tf.io.gfile.exists instead.\n",
      "\n"
     ]
    }
   ],
   "source": [
    "import kfp\n",
    "import kfp.dsl as dsl\n",
    "import kfp.compiler as compiler\n",
    "from kubernetes import client as k8s_client"
   ]
  },
  {
   "cell_type": "markdown",
   "metadata": {},
   "source": [
    "Create a Dkube pipeline experiment"
   ]
  },
  {
   "cell_type": "code",
   "execution_count": 2,
   "metadata": {},
   "outputs": [
    {
     "data": {
      "text/html": [
       "Experiment link <a href=\"/pipeline/#/experiments/details/dcd544c8-860d-4172-8370-cbfbff07b41e\" target=\"_blank\" >here</a>"
      ],
      "text/plain": [
       "<IPython.core.display.HTML object>"
      ]
     },
     "metadata": {},
     "output_type": "display_data"
    }
   ],
   "source": [
    "client = kfp.Client()\n",
    "parabricks_experiment = client.create_experiment(name='human-par-pipeline')"
   ]
  },
  {
   "cell_type": "code",
   "execution_count": 16,
   "metadata": {},
   "outputs": [],
   "source": [
    "import kfp.dsl as dsl\n",
    "from kfp import components\n",
    "from kubernetes import client as k8s_client\n",
    "\n",
    "import os\n",
    "import json\n",
    "from random import randint\n",
    "\n",
    "dkube_training_op           = components.load_component_from_file(\"training-component.yaml\")\n",
    "\n",
    "description = \"\"\"Given one or more pairs of fastq files, you can run the human_par\n",
    "pipeline workflow to generate output including BAM, recal, and variants called with\n",
    "proper pseudoautosomal region ploidy values.\n",
    "\"\"\"\n",
    "@dsl.pipeline(\n",
    "    name='human-par-pipeline',\n",
    "    description=description\n",
    ")\n",
    "def human_par_pipeline(\n",
    "    auth_token  = os.getenv(\"DKUBE_USER_ACCESS_TOKEN\"),\n",
    "    container = json.dumps({'image':'docker.io/ocdr/parabricks:v2.5.0', 'username':'', 'password': ''}),\n",
    "    workspace = \"parabricks\",\n",
    "    datasets = json.dumps([\"parabricks-sample\"]),\n",
    "    ref = \"Ref/Homo_sapiens_assembly38.fasta\",\n",
    "    in_fq_1 = \"Data/sample_1.fq.gz\",\n",
    "    in_fq_2 = \"Data/sample_2.fq.gz\",\n",
    "    knownSites = \"Ref/Homo_sapiens_assembly38.known_indels.vcf.gz\",\n",
    "    range_male = \"1-10\",\n",
    "    range_female = \"150-250\",\n",
    "    sample_sex = \"male\",    \n",
    "    #Request gpus as needed. Val 0 means no gpu,\n",
    "    num_gpus=2):\n",
    "\n",
    "    #Script to run inside the training container\n",
    "    args = \"\"\"--ref $DKUBE_INPUT_DATASETS/{} --in-fq $DKUBE_INPUT_DATASETS/{} $DKUBE_INPUT_DATASETS/{} \\\n",
    "            --knownSites $DKUBE_INPUT_DATASETS/{} --range-male {} --range-female {} --sample-sex {} \\\n",
    "            --out-bam $DKUBE_INPUT_DATASETS/output.bam --out-variants $DKUBE_INPUT_DATASETS/output.vcf \\\n",
    "            --out-recal-file $DKUBE_INPUT_DATASETS/report.txt --num-gpus {}\"\"\".format(\n",
    "        ref, in_fq_1, in_fq_2,knownSites, range_male, range_female, sample_sex, num_gpus\n",
    "    )\n",
    "    \n",
    "    #Path to NVIDIA parabricks license. Upload it to workspace\"\n",
    "    license_file = \"license.bin\"\n",
    "    run_script=\"/INSTALL/pbrun human_par \" + args + \" --license-file \" + license_file\n",
    "    \n",
    "    dkube_training_op(auth_token, container, program=workspace, run_script=run_script, datasets=datasets, ngpus=num_gpus)"
   ]
  },
  {
   "cell_type": "markdown",
   "metadata": {},
   "source": [
    "Compile and generate tar ball"
   ]
  },
  {
   "cell_type": "code",
   "execution_count": 17,
   "metadata": {},
   "outputs": [],
   "source": [
    "compiler.Compiler().compile(human_par_pipeline, 'human_par_pl.tar.gz')"
   ]
  },
  {
   "cell_type": "markdown",
   "metadata": {},
   "source": [
    "Create and Run pipeline"
   ]
  },
  {
   "cell_type": "code",
   "execution_count": 18,
   "metadata": {},
   "outputs": [
    {
     "data": {
      "text/html": [
       "Run link <a href=\"/pipeline/#/runs/details/b6cd27c4-fd30-4c3d-95de-7c6e351efd47\" target=\"_blank\" >here</a>"
      ],
      "text/plain": [
       "<IPython.core.display.HTML object>"
      ]
     },
     "metadata": {},
     "output_type": "display_data"
    }
   ],
   "source": [
    "run = client.run_pipeline(parabricks_experiment.id, 'human-par-pipeline', 'human_par_pl.tar.gz', params={})"
   ]
  },
  {
   "cell_type": "code",
   "execution_count": null,
   "metadata": {},
   "outputs": [],
   "source": []
  }
 ],
 "metadata": {
  "kernelspec": {
   "display_name": "Python 3",
   "language": "python",
   "name": "python3"
  },
  "language_info": {
   "codemirror_mode": {
    "name": "ipython",
    "version": 3
   },
   "file_extension": ".py",
   "mimetype": "text/x-python",
   "name": "python",
   "nbconvert_exporter": "python",
   "pygments_lexer": "ipython3",
   "version": "3.6.8"
  }
 },
 "nbformat": 4,
 "nbformat_minor": 4
}
