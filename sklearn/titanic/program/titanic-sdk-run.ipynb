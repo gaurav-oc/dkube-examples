{
 "cells": [
  {
   "cell_type": "markdown",
   "metadata": {},
   "source": [
    "## Installing DKube SDK"
   ]
  },
  {
   "cell_type": "code",
   "execution_count": null,
   "metadata": {},
   "outputs": [],
   "source": [
    "! pip3 install git+https://github.com/oneconvergence/dkube.git@2.2-dev --upgrade --no-cache-dir\n",
    "import os\n",
    "os._exit(00)"
   ]
  },
  {
   "cell_type": "code",
   "execution_count": null,
   "metadata": {},
   "outputs": [],
   "source": [
    "from dkube.sdk import *"
   ]
  },
  {
   "cell_type": "code",
   "execution_count": null,
   "metadata": {},
   "outputs": [],
   "source": [
    "user = os.getenv('USERNAME')\n",
    "authToken = os.getenv('DKUBE_USER_ACCESS_TOKEN')\n",
    "dataset_name = \"titanic\"\n",
    "pre_inp_path = \"/opt/dkube/input\"\n",
    "ptrain_out_path = \"/opt/dkube/output/train\"\n",
    "ptest_out_path = \"/opt/dkube/output/test\"\n",
    "project_name = \"titanic\"\n",
    "training_fs = \"titanic-train-fs\"\n",
    "test_fs = \"titanic-test-fs\"\n",
    "model_name = \"titanic\"\n",
    "framework = \"scikit_v0.2.2\"\n",
    "image = \"ocdr/d3-datascience-tf-cpu:fs-v1.14\"\n",
    "preprocess_script = \"python preprocessing.py --train_fs titanic-train-fs --test_fs titanic-test-fs\"\n",
    "training_script = \"python training.py\"\n",
    "transformer_code = \"predict.py\""
   ]
  },
  {
   "cell_type": "code",
   "execution_count": null,
   "metadata": {},
   "outputs": [],
   "source": [
    "api = DkubeApi(token=authToken)"
   ]
  },
  {
   "cell_type": "code",
   "execution_count": null,
   "metadata": {},
   "outputs": [],
   "source": [
    "preprocessing_name= generate(project_name)\n",
    "preprocessing = DkubePreprocessing(user, name=preprocessing_name, description='triggered from dkube sdk')\n",
    "preprocessing.update_container(image_url=image)\n",
    "preprocessing.update_startupscript(preprocess_script)\n",
    "preprocessing.add_project(project_name)\n",
    "preprocessing.add_input_dataset(dataset_name, mountpath=pre_inp_path)\n",
    "preprocessing.add_output_featureset(titanic-train-fs, mountpath=ptrain_out_path)\n",
    "preprocessing.add_output_featureset(titanic-test-fs, mountpath=ptest_out_path)"
   ]
  },
  {
   "cell_type": "code",
   "execution_count": null,
   "metadata": {},
   "outputs": [],
   "source": [
    "api.create_preprocessing_run(preprocessing)"
   ]
  },
  {
   "cell_type": "code",
   "execution_count": null,
   "metadata": {},
   "outputs": [],
   "source": [
    "training_name = generate(project_name)\n",
    "training = DkubeTraining(user, name = training_name, description='triggered from dkube sdk')\n",
    "training.update_container(framework = framework, image_url=image)\n",
    "training.update_startupscript(training_script)\n",
    "training.add_project(project_name)\n",
    "training.add_input_featureset(titanic-train-fs, mountpath=\"/titanic-train\")\n",
    "training.add_input_featureset(titanic-test-fs, mountpath=\"/titanic-test\")\n",
    "training.add_output_model(model_name, mountpath=\"/model\")"
   ]
  },
  {
   "cell_type": "code",
   "execution_count": null,
   "metadata": {},
   "outputs": [],
   "source": [
    "api.create_training_run(training)"
   ]
  },
  {
   "cell_type": "code",
   "execution_count": null,
   "metadata": {},
   "outputs": [],
   "source": [
    "for each_datum in api.list_models(user = user)[0][\"datums\"]:\n",
    "    if each_datum[\"datum\"][\"name\"] == model_name:\n",
    "        head_version = each_datum[\"datum\"][\"generated\"][\"head_version\"]\n",
    "        break"
   ]
  },
  {
   "cell_type": "code",
   "execution_count": null,
   "metadata": {},
   "outputs": [],
   "source": [
    "head_version"
   ]
  }
 ],
 "metadata": {
  "kernelspec": {
   "display_name": "Python 3",
   "language": "python",
   "name": "python3"
  },
  "language_info": {
   "codemirror_mode": {
    "name": "ipython",
    "version": 3
   },
   "file_extension": ".py",
   "mimetype": "text/x-python",
   "name": "python",
   "nbconvert_exporter": "python",
   "pygments_lexer": "ipython3",
   "version": "3.6.8"
  }
 },
 "nbformat": 4,
 "nbformat_minor": 4
}
